{
  "nbformat": 4,
  "nbformat_minor": 0,
  "metadata": {
    "colab": {
      "provenance": [],
      "authorship_tag": "ABX9TyNz517N5vwaPVP178JE3vNb",
      "include_colab_link": true
    },
    "kernelspec": {
      "name": "python3",
      "display_name": "Python 3"
    },
    "language_info": {
      "name": "python"
    }
  },
  "cells": [
    {
      "cell_type": "markdown",
      "metadata": {
        "id": "view-in-github",
        "colab_type": "text"
      },
      "source": [
        "<a href=\"https://colab.research.google.com/github/pk2971/computational-gender-analysis/blob/main/notebooks/Results.ipynb\" target=\"_parent\"><img src=\"https://colab.research.google.com/assets/colab-badge.svg\" alt=\"Open In Colab\"/></a>"
      ]
    },
    {
      "cell_type": "markdown",
      "source": [
        "# Computational analysis of Gender Perception in the UK Parliament\n",
        "\n",
        "\n",
        "---\n",
        "\n",
        "This project investigates the changing importance of female-related terms in British parliamentary debates, with a particular focus on the period surrounding women’s suffrage in 1928. Developed entirely in Google Colab Pro, the codebase is optimized to minimize computational resource usage, especially for Retrieval-Augmented Generation (RAG) and Large Language Model (LLM) components.\n"
      ],
      "metadata": {
        "id": "nBu4SjbDsR3t"
      }
    },
    {
      "cell_type": "markdown",
      "source": [
        "## Hypothesis:\n",
        "\n",
        "Gendered pronoun counts, word importance for female related terms increased after the suffrage (around 1928).\n",
        "\n",
        "\n",
        "\n",
        "## Notebooks:\n",
        "\n",
        "\n",
        "* [Pronoun Count EDA](https://colab.research.google.com/drive/1cLwPUNngviFUmMANR8Dj1orxlHUNoDKu)\n",
        "* [Word Cloud Analysis](https://colab.research.google.com/drive/1mJJPVR7ELBiI9RrJibWAUNPgblcrfOgH#scrollTo=-VLmxaAmjWqd)\n",
        "* [Token Analysis](https://colab.research.google.com/drive/1tGt085NuCKvwSDS-FyEpdlfdJmTvsHx-)\n",
        "* [Parliamentary Debates QA with RAG](https://colab.research.google.com/drive/1u16rfCsYeZpuQm_n572EVt0IMtDeuzb9)\n",
        "\n",
        "\n",
        "\n"
      ],
      "metadata": {
        "id": "woGmuXjAuqNj"
      }
    },
    {
      "cell_type": "markdown",
      "source": [
        "## Pronoun Count EDA\n",
        "\n"
      ],
      "metadata": {
        "id": "uKhsVYjJvZ-D"
      }
    },
    {
      "cell_type": "markdown",
      "source": [
        "## Word Cloud Analysis"
      ],
      "metadata": {
        "id": "GxTD-F2Zxctf"
      }
    },
    {
      "cell_type": "markdown",
      "source": [
        "## Token Analysis"
      ],
      "metadata": {
        "id": "5BQt3pPIxjCq"
      }
    },
    {
      "cell_type": "markdown",
      "source": [
        "## Parliamentary Debates QA with RAG"
      ],
      "metadata": {
        "id": "T6AnpV1ixmcG"
      }
    }
  ]
}